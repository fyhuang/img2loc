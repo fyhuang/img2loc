{
 "cells": [
  {
   "cell_type": "code",
   "execution_count": null,
   "metadata": {},
   "outputs": [],
   "source": [
    "# Format:\n",
    "# lon,lat,number,street,unit,city,district,region,postcode,id,hash\n",
    "#\n",
    "# Each state/country represented by a separate file\n",
    "\n",
    "import csv\n",
    "from typing import NamedTuple\n",
    "from pathlib import Path\n",
    "import pandas as pd\n",
    "\n",
    "\n",
    "class OpenAddrEntry(NamedTuple):\n",
    "    lat: float\n",
    "    lng: float\n",
    "    city: str\n",
    "    district: str\n",
    "    region: str\n",
    "    country: str\n",
    "    entry_hash: str\n",
    "\n",
    "def parse_openaddr_filename(filename):\n",
    "    # country, region, district, city\n",
    "    result = {}\n",
    "    parts = Path(filename).relative_to(\"inputs/openaddr/\").parts\n",
    "    if len(parts) >= 4:\n",
    "        result[\"city\"] = parts[3]\n",
    "    if len(parts) >= 3:\n",
    "        # TODO: kind of a hack\n",
    "        result[\"district\"] = Path(parts[2]).stem.replace(\"_\", \" \")\n",
    "    if len(parts) >= 2:\n",
    "        result[\"region\"] = parts[1]\n",
    "    if len(parts) >= 1:\n",
    "        result[\"country\"] = parts[0]\n",
    "    return result\n",
    "\n",
    "def read_openaddr_csv(base_fn):\n",
    "    # Parse the country, state, and city from the filename\n",
    "    filename = \"inputs/openaddr/\" + base_fn\n",
    "    ambient = parse_openaddr_filename(filename)\n",
    "\n",
    "    with open(filename, \"r\") as f:\n",
    "        reader = csv.DictReader(f)\n",
    "        return [OpenAddrEntry(\n",
    "                    float(row[\"LAT\"]),\n",
    "                    float(row[\"LON\"]),\n",
    "                    row.get(\"CITY\") or ambient.get(\"city\"),\n",
    "                    row.get(\"DISTRICT\") or ambient.get(\"district\"),\n",
    "                    row.get(\"REGION\") or ambient.get(\"region\"),\n",
    "                    ambient.get(\"country\"),\n",
    "                    row.get(\"HASH\"),\n",
    "                ) for row in reader]"
   ]
  },
  {
   "cell_type": "code",
   "execution_count": null,
   "metadata": {},
   "outputs": [],
   "source": [
    "parse_openaddr_filename(\"inputs/openaddr/us/ca/san_diego.csv\")"
   ]
  },
  {
   "cell_type": "code",
   "execution_count": null,
   "metadata": {},
   "outputs": [],
   "source": [
    "def points_to_df(points):\n",
    "    df = pd.DataFrame(points, columns=[\"orig_lat\", \"orig_lng\", \"city\", \"district\", \"region\", \"country\", \"entry_hash\"])\n",
    "    return df"
   ]
  }
 ],
 "metadata": {
  "language_info": {
   "name": "python"
  }
 },
 "nbformat": 4,
 "nbformat_minor": 2
}

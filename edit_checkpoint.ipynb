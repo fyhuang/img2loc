{
 "cells": [
  {
   "cell_type": "code",
   "execution_count": 1,
   "metadata": {},
   "outputs": [
    {
     "data": {
      "text/plain": [
       "dict"
      ]
     },
     "execution_count": 1,
     "metadata": {},
     "output_type": "execute_result"
    }
   ],
   "source": [
    "# Load a PyTorch Lightning checkpoint and edit its params\n",
    "\n",
    "CKPT_PATH = 'lightning_logs/version_13/checkpoints/last.ckpt'\n",
    "\n",
    "import torch\n",
    "\n",
    "ckpt = torch.load(CKPT_PATH, map_location='cpu')\n",
    "type(ckpt)"
   ]
  },
  {
   "cell_type": "code",
   "execution_count": 4,
   "metadata": {},
   "outputs": [
    {
     "name": "stdout",
     "output_type": "stream",
     "text": [
      "dict_keys(['epoch', 'global_step', 'pytorch-lightning_version', 'state_dict', 'loops', 'callbacks', 'optimizer_states', 'lr_schedulers', 'hparams_name', 'hyper_parameters'])\n"
     ]
    },
    {
     "data": {
      "text/plain": [
       "[{'factor': 0.5,\n",
       "  'min_lrs': [0],\n",
       "  'patience': 3,\n",
       "  'verbose': False,\n",
       "  'cooldown': 0,\n",
       "  'cooldown_counter': 0,\n",
       "  'mode': 'max',\n",
       "  'threshold': 0.0001,\n",
       "  'threshold_mode': 'rel',\n",
       "  'best': 0.4163919985294342,\n",
       "  'num_bad_epochs': 0,\n",
       "  'mode_worse': -inf,\n",
       "  'eps': 1e-08,\n",
       "  'last_epoch': 33,\n",
       "  '_last_lr': [0.00075]}]"
      ]
     },
     "execution_count": 4,
     "metadata": {},
     "output_type": "execute_result"
    }
   ],
   "source": [
    "edit = ckpt.copy()\n",
    "print(edit.keys())\n",
    "#print(edit['optimizer_states'][0].keys())\n",
    "#edit['optimizer_states'][0]['param_groups']\n",
    "edit[\"lr_schedulers\"]"
   ]
  },
  {
   "cell_type": "code",
   "execution_count": 5,
   "metadata": {},
   "outputs": [],
   "source": [
    "edit[\"lr_schedulers\"][0][\"best\"] = 0.0\n",
    "edit[\"lr_schedulers\"][0][\"_last_lr\"] = [7.5e-4]\n",
    "edit['optimizer_states'][0]['param_groups'][0]['lr'] = 7.5e-4"
   ]
  },
  {
   "cell_type": "code",
   "execution_count": 21,
   "metadata": {},
   "outputs": [
    {
     "data": {
      "text/plain": [
       "{\"EarlyStopping{'monitor': 'val_acc', 'mode': 'max'}\": {'wait_count': 0,\n",
       "  'stopped_epoch': 0,\n",
       "  'best_score': tensor(0.0161),\n",
       "  'patience': 2},\n",
       " \"ModelCheckpoint{'monitor': 'val_acc', 'mode': 'max', 'every_n_train_steps': 5000, 'every_n_epochs': 0, 'train_time_interval': None}\": {'monitor': 'val_acc',\n",
       "  'best_model_score': tensor(0.0161),\n",
       "  'best_model_path': './lightning_logs/version_1/checkpoints/epoch=0-step=80000.ckpt',\n",
       "  'current_score': tensor(0.0138),\n",
       "  'dirpath': './lightning_logs/version_1/checkpoints',\n",
       "  'best_k_models': {'./lightning_logs/version_1/checkpoints/epoch=0-step=70000.ckpt': tensor(0.0147),\n",
       "   './lightning_logs/version_1/checkpoints/epoch=0-step=80000.ckpt': tensor(0.0161),\n",
       "   './lightning_logs/version_1/checkpoints/epoch=0-step=85000.ckpt': tensor(0.0138)},\n",
       "  'kth_best_model_path': './lightning_logs/version_1/checkpoints/epoch=0-step=85000.ckpt',\n",
       "  'kth_value': tensor(0.0138),\n",
       "  'last_model_path': './lightning_logs/version_1/checkpoints/last.ckpt'}}"
      ]
     },
     "execution_count": 21,
     "metadata": {},
     "output_type": "execute_result"
    }
   ],
   "source": [
    "edit['callbacks'][\"EarlyStopping{'monitor': 'val_acc', 'mode': 'max'}\"][\"wait_count\"] = 0\n",
    "edit['callbacks']"
   ]
  },
  {
   "cell_type": "code",
   "execution_count": 7,
   "metadata": {},
   "outputs": [],
   "source": [
    "edit['state_dict']['classifier.3.weight'] = ckpt['state_dict']['classifier.2.weight']\n",
    "edit['state_dict']['classifier.3.bias'] = ckpt['state_dict']['classifier.2.bias']\n",
    "del edit['state_dict']['classifier.2.weight']\n",
    "del edit['state_dict']['classifier.2.bias']"
   ]
  },
  {
   "cell_type": "code",
   "execution_count": 6,
   "metadata": {},
   "outputs": [],
   "source": [
    "torch.save(edit, 'lightning_logs/version_13/checkpoints/last_edited.ckpt')"
   ]
  }
 ],
 "metadata": {
  "kernelspec": {
   "display_name": "Python 3",
   "language": "python",
   "name": "python3"
  },
  "language_info": {
   "codemirror_mode": {
    "name": "ipython",
    "version": 3
   },
   "file_extension": ".py",
   "mimetype": "text/x-python",
   "name": "python",
   "nbconvert_exporter": "python",
   "pygments_lexer": "ipython3",
   "version": "3.11.7"
  }
 },
 "nbformat": 4,
 "nbformat_minor": 2
}

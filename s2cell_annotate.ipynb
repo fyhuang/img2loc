{
 "cells": [
  {
   "cell_type": "markdown",
   "metadata": {},
   "source": [
    "# Annotate a (web)dataset with the S2 cell of each example\n",
    "\n",
    "Create a tree of S2 cells adaptively, making sure each cell doesn't have too many/few examples.\n",
    "\n",
    "Apply the S2 cell tree to a webdataset, labeling each example with the smallest S2 cell in the tree that contains the lat/lng of the example."
   ]
  },
  {
   "cell_type": "code",
   "execution_count": 4,
   "metadata": {},
   "outputs": [
    {
     "name": "stdout",
     "output_type": "stream",
     "text": [
      "The autoreload extension is already loaded. To reload it, use:\n",
      "  %reload_ext autoreload\n"
     ]
    }
   ],
   "source": [
    "%load_ext autoreload\n",
    "%autoreload 2\n",
    "import collections\n",
    "from pathlib import Path\n",
    "\n",
    "import pandas\n",
    "import webdataset\n",
    "import s2sphere\n",
    "\n",
    "import tqdm\n",
    "\n",
    "import label_mapping\n",
    "\n",
    "TRAIN_DF_PATH = Path.home() / \"datasets\" / \"im2gps\" / \"outputs\" / \"im2gps_2007.pkl\"\n",
    "TRAIN_CELLS_PATH = Path.home() / \"datasets\" / \"im2gps\" / \"outputs\" / \"s2cell_2007\"\n",
    "\n",
    "TARGET_DF_PATH = Path.home() / \"datasets\" / \"im2gps3ktest\" / \"im2gps3ktest.pkl\"\n",
    "DATASET_OUT_PATH = Path.home() / \"datasets\" / \"im2gps3ktest\"\n",
    "\n",
    "MIN_CELL_LEVEL = 6\n",
    "MAX_CELL_LEVEL = 23\n",
    "\n",
    "CELL_MAX_EXAMPLES = 500\n",
    "CELL_MIN_EXAMPLES = 25"
   ]
  },
  {
   "cell_type": "markdown",
   "metadata": {},
   "source": [
    "## Analyse the train dataset to build the S2 cell tree"
   ]
  },
  {
   "cell_type": "code",
   "execution_count": 38,
   "metadata": {},
   "outputs": [
    {
     "name": "stderr",
     "output_type": "stream",
     "text": [
      "100%|██████████| 635626/635626 [00:45<00:00, 13883.30it/s]\n"
     ]
    }
   ],
   "source": [
    "train_df = pandas.read_pickle(TRAIN_DF_PATH)\n",
    "\n",
    "# Format: {level: {cell_id: (child_cell_id, ...)}}\n",
    "cell_by_id = {}\n",
    "cells_by_level = collections.defaultdict(lambda: collections.defaultdict(set))\n",
    "\n",
    "# Build the cell_by_id index and initialize cells_by_level\n",
    "for index, row in tqdm.tqdm(train_df.iterrows(), total=len(train_df.index)):\n",
    "    latlng = s2sphere.LatLng.from_degrees(row[\"latitude\"], row[\"longitude\"])\n",
    "    s2_cell_id = s2sphere.CellId.from_lat_lng(latlng).parent(MAX_CELL_LEVEL)\n",
    "    cell_by_id[row[\"id\"]] = s2_cell_id\n",
    "\n",
    "    parent_cell = s2_cell_id.parent(MIN_CELL_LEVEL)\n",
    "    cells_by_level[parent_cell.level()][parent_cell.id()].add(s2_cell_id.id())"
   ]
  },
  {
   "cell_type": "code",
   "execution_count": 53,
   "metadata": {},
   "outputs": [
    {
     "name": "stdout",
     "output_type": "stream",
     "text": [
      "Splitting at level 1\n"
     ]
    },
    {
     "name": "stderr",
     "output_type": "stream",
     "text": [
      "0it [00:00, ?it/s]\n"
     ]
    },
    {
     "name": "stdout",
     "output_type": "stream",
     "text": [
      "Splitting at level 2\n"
     ]
    },
    {
     "name": "stderr",
     "output_type": "stream",
     "text": [
      "0it [00:00, ?it/s]\n"
     ]
    },
    {
     "name": "stdout",
     "output_type": "stream",
     "text": [
      "Splitting at level 3\n"
     ]
    },
    {
     "name": "stderr",
     "output_type": "stream",
     "text": [
      "0it [00:00, ?it/s]\n"
     ]
    },
    {
     "name": "stdout",
     "output_type": "stream",
     "text": [
      "Splitting at level 4\n"
     ]
    },
    {
     "name": "stderr",
     "output_type": "stream",
     "text": [
      "0it [00:00, ?it/s]\n"
     ]
    },
    {
     "name": "stdout",
     "output_type": "stream",
     "text": [
      "Splitting at level 5\n"
     ]
    },
    {
     "name": "stderr",
     "output_type": "stream",
     "text": [
      "0it [00:00, ?it/s]\n"
     ]
    },
    {
     "name": "stdout",
     "output_type": "stream",
     "text": [
      "Splitting at level 6\n"
     ]
    },
    {
     "name": "stderr",
     "output_type": "stream",
     "text": [
      "100%|██████████| 4060/4060 [00:00<00:00, 1421086.06it/s]\n"
     ]
    },
    {
     "name": "stdout",
     "output_type": "stream",
     "text": [
      "Splitting at level 7\n"
     ]
    },
    {
     "name": "stderr",
     "output_type": "stream",
     "text": [
      "100%|██████████| 324/324 [00:00<00:00, 2418068.50it/s]\n"
     ]
    },
    {
     "name": "stdout",
     "output_type": "stream",
     "text": [
      "Splitting at level 8\n"
     ]
    },
    {
     "name": "stderr",
     "output_type": "stream",
     "text": [
      "100%|██████████| 220/220 [00:00<00:00, 930188.39it/s]\n"
     ]
    },
    {
     "name": "stdout",
     "output_type": "stream",
     "text": [
      "Splitting at level 9\n"
     ]
    },
    {
     "name": "stderr",
     "output_type": "stream",
     "text": [
      "100%|██████████| 185/185 [00:00<00:00, 762975.65it/s]\n"
     ]
    },
    {
     "name": "stdout",
     "output_type": "stream",
     "text": [
      "Splitting at level 10\n"
     ]
    },
    {
     "name": "stderr",
     "output_type": "stream",
     "text": [
      "100%|██████████| 186/186 [00:00<00:00, 803440.31it/s]\n"
     ]
    },
    {
     "name": "stdout",
     "output_type": "stream",
     "text": [
      "Splitting at level 11\n"
     ]
    },
    {
     "name": "stderr",
     "output_type": "stream",
     "text": [
      "100%|██████████| 158/158 [00:00<00:00, 607424.41it/s]\n"
     ]
    },
    {
     "name": "stdout",
     "output_type": "stream",
     "text": [
      "Splitting at level 12\n"
     ]
    },
    {
     "name": "stderr",
     "output_type": "stream",
     "text": [
      "100%|██████████| 140/140 [00:00<00:00, 895125.85it/s]\n"
     ]
    },
    {
     "name": "stdout",
     "output_type": "stream",
     "text": [
      "Splitting at level 13\n"
     ]
    },
    {
     "name": "stderr",
     "output_type": "stream",
     "text": [
      "100%|██████████| 108/108 [00:00<00:00, 1143901.09it/s]\n"
     ]
    },
    {
     "name": "stdout",
     "output_type": "stream",
     "text": [
      "Splitting at level 14\n"
     ]
    },
    {
     "name": "stderr",
     "output_type": "stream",
     "text": [
      "100%|██████████| 16/16 [00:00<00:00, 224444.36it/s]\n"
     ]
    },
    {
     "name": "stdout",
     "output_type": "stream",
     "text": [
      "Splitting at level 15\n"
     ]
    },
    {
     "name": "stderr",
     "output_type": "stream",
     "text": [
      "0it [00:00, ?it/s]\n"
     ]
    },
    {
     "name": "stdout",
     "output_type": "stream",
     "text": [
      "Splitting at level 16\n"
     ]
    },
    {
     "name": "stderr",
     "output_type": "stream",
     "text": [
      "0it [00:00, ?it/s]\n"
     ]
    },
    {
     "name": "stdout",
     "output_type": "stream",
     "text": [
      "Splitting at level 17\n"
     ]
    },
    {
     "name": "stderr",
     "output_type": "stream",
     "text": [
      "0it [00:00, ?it/s]\n"
     ]
    },
    {
     "name": "stdout",
     "output_type": "stream",
     "text": [
      "Splitting at level 18\n"
     ]
    },
    {
     "name": "stderr",
     "output_type": "stream",
     "text": [
      "0it [00:00, ?it/s]\n"
     ]
    },
    {
     "name": "stdout",
     "output_type": "stream",
     "text": [
      "Splitting at level 19\n"
     ]
    },
    {
     "name": "stderr",
     "output_type": "stream",
     "text": [
      "0it [00:00, ?it/s]\n"
     ]
    },
    {
     "name": "stdout",
     "output_type": "stream",
     "text": [
      "Splitting at level 20\n"
     ]
    },
    {
     "name": "stderr",
     "output_type": "stream",
     "text": [
      "0it [00:00, ?it/s]\n"
     ]
    },
    {
     "name": "stdout",
     "output_type": "stream",
     "text": [
      "Splitting at level 21\n"
     ]
    },
    {
     "name": "stderr",
     "output_type": "stream",
     "text": [
      "0it [00:00, ?it/s]\n"
     ]
    },
    {
     "name": "stdout",
     "output_type": "stream",
     "text": [
      "Splitting at level 22\n"
     ]
    },
    {
     "name": "stderr",
     "output_type": "stream",
     "text": [
      "0it [00:00, ?it/s]"
     ]
    },
    {
     "name": "stdout",
     "output_type": "stream",
     "text": [
      "Number of cells = 1776\n"
     ]
    },
    {
     "name": "stderr",
     "output_type": "stream",
     "text": [
      "\n"
     ]
    }
   ],
   "source": [
    "# Walk the tree and split cells\n",
    "for level in range(1, MAX_CELL_LEVEL):\n",
    "    print(f\"Splitting at level {level}\")\n",
    "    celldict = cells_by_level[level]\n",
    "    for cell_id, cellset in tqdm.tqdm(celldict.items()):\n",
    "        if len(cellset) <= CELL_MAX_EXAMPLES:\n",
    "            continue\n",
    "\n",
    "        next_level = level+1\n",
    "        for child_id in cellset:\n",
    "            child_cell = s2sphere.CellId(child_id)\n",
    "            next_level_parent = child_cell.parent(next_level)\n",
    "            cells_by_level[next_level][next_level_parent.id()].add(child_id)\n",
    "        cellset.clear()\n",
    "\n",
    "# Flatten the cells_by_level dict and remove cells with too few examples\n",
    "candidate_celldicts = {}\n",
    "for level, celldict in cells_by_level.items():\n",
    "    for cell_id, cellset in celldict.items():\n",
    "        if len(cellset) >= CELL_MIN_EXAMPLES:\n",
    "            candidate_celldicts[cell_id] = cellset\n",
    "\n",
    "print(f\"Number of cells = {len(candidate_celldicts)}\")\n",
    "\n",
    "# Save the cell mapping to disk\n",
    "tokens = [s2sphere.CellId(cell_id).to_token() for cell_id in sorted(candidate_celldicts.keys())]\n",
    "mapping = label_mapping.LabelMapping(tokens)\n",
    "mapping.to_csv(DATASET_OUT_PATH / \"cells.csv\")"
   ]
  },
  {
   "cell_type": "code",
   "execution_count": 54,
   "metadata": {},
   "outputs": [
    {
     "name": "stdout",
     "output_type": "stream",
     "text": [
      "0097,0099,009b,009d,00a7,0717,07ab,0b43,0b47,0b5d,0c41,0c47,0c61,0c6b,0d05,0d0b,0d0d,0d11,0d13,0d15,0d17,0d18c,0d1931,0d1933,0d1935,0d195,0d19c,0d1b,0d1f,0d23,0d25,0d2f,0d31,0d37,0d39,0d3b,0d3d,0d3f,0d41,0d4224,0d42284,0d4228c,0d42294,0d422f,0d4234,0d45,0d47,0d49,0d4f,0d51,0d55,0d57,0d59,0d5b,0d5d,0d5f,0d61,0d63,0d6b,0d6d,0d6f,0d71,0d73,0d7b,0d97,0d9f,0da1,0da7,0dad,0daf,0db1,0db3,0dbb,0dbd,0e39,0e3b,0ec1,0ec3,0fdd,0fdf,103b,1061,1257,1297,1299,129f,12a1,12a3,12a44,12a49,12a4a25,12a4a27,12a4a29,12a4a2b,12a4a2d,12a4a2e4,12a4a2ec,12a4a2f4,12a4a2fc,12a4a34,12a4a3c,12a4bc,12a4f,12a54,12a5c,12a7,12a9,12ab,12ad,12af,12b1,12b3,12b5,12b7,12bb,12c9,12cb,12cd,12cf,12d1,12d3,12d5,12d7,12d9,12db,12dd,12e3,12fd,130f,1311,1313,1315,1317,1319,1325,1329,132a3,132a51,132a53,132a55,132a57,132ac,132bc,132d,132ec,132f5,132f603,132f6044,132f604c,132f6054,132f605c,132f607,132f60c,132f614,132f61a4,132f61ac,132f61b4,132f61bc,132f61d,1331,1335,133b4,133bc,1347,134b,134d,134f,1351,1355,1357,1359,135b,135d,135f,1361,1367,13a9,1437,1449,1453,14583,14585,1491,1495,1497,1499,149b,149d,149f,14a04,14a14,14a19,14a1a4,14a1bb,14a1bd1,14a1bd3,14a1bd5,14a1f,14a3,14a7,14a9,14ab,14ad,14af,14b1,14b9,14bb,14bd,14bf,14c1,14c3,14c7,14cab4,14cab84,14cab99,14cab9b,14cab9d,14cab9f,14cabb,14cad,14d3,14df,14e1,14e7,14f5,1501,15024,1502c,15034,1519,151b,151d,151f,1525,152b,152f,153d,1557,1559,1603,164b,168f,1763,177d,1817,1829,182d,182f,1833,1835,1837,1839,1841,1843,185d,18d9,18df,1919,194f,1957,195b,19c1,19cd,19dd,1b8d,1c0b,1c33,1c3f,1c73,1c77,1dcc4,1dccc,1dcdc,1dcf,1dd1,1dd7,1e79,1e95,1ebf,1ec3,1ee7,1ee9,1ef3,1ef7,1efb,217d,2213,2a2f,2a33,2a39,2b23,2db5,2dcd,2dd1,2dd3,2dd7,2e69,2e7b,3035,304b,304d,304f,3051,3055,30b5,30c1,30cb,30cf,30d7,30db,30df,30e24,30e298c,30e2994,30e29f,30e34,30fd,3103,3105,3109,310b,3111,3115,311d,3125,312f,3135,3141,3143,314b,3171,3175,3177,31a1,31b7,31cb,31cd,31d1,31db,323b,3287,32d5,3391,3397,33a1,33a5,33a9,33ab,33bd,3401,3403,3404004,340400c,3404014,340407,34040c,3407,34429,3442a4,3442a9,3442ab,3442ad,3442af,3442b4,344b,345d,3467,34684,3468c,34694,346d,346e4,346ec,346f4,346fc,3471,34e5,3541,3555,355b,357b,357c9,357cb,357f,35ad,35b264,35b26c,35b2704,35b270c,35b271c,35b277,35b34,35b3c,35b5,35f04c,35f051,35f0524,35f0529,35f052d,35f052f,35f0534,35f055,35f057,35f0c,35f1c,3663,3679,3693,36a5,36cd,36d1,36ed,36ef,3721,3727,3755,3761,3803,3883,38b5,38c1,38c3,38d1,38df,38e1,38e7,38e9,38fd,3905,3909,390d,3919,391b,3941,3947,395f,3967,396b,396d,3973,3975,3977,3983,398f,3995,39bf,39e1,39e5,39e7,39e9,39eb,3a03,3a53,3ae3,3b01,3b05,3b07,3b09,3b3f,3b41,3b6b,3ba9,3baf,3bbf,3bc3,3bcb,3be7b,3be7d,3be9,3e2f,3e49,3e5f,3eb3,3f4d,3f51,3f6d,3f6f,3f8f,3fad,3fb3,3fbd,3fcf,401b,4031,4045,4095,409f,40a5,40a7,40a9,40ab,40b1,40b3,40c7,40d5,40eb,4127,414b,4429,442b,45c5,45cb,45d1,45d9,45db,45dd,45df,4615,4617,4639,463b,463d,463f,4641,4645,4647,4649,464b,464d,464f,4651,46524,4653c,4655,4657,4659,465b,465d,465f,4669,466d,4681,4685,4687,4689,468b,468d,468f,4691,469209,46920a4,46920bc,4692c,4697,469b,46b53,46b549,46b54a4,46b54ac,46b54b4,46b54bc,46b54d,46cb,46dd,46e5,46e7,46eb,46ef,46fd,4703,4705,4709,470b,470d,470f,4711,4713,4715,4717,4719,471b,471f,4723,4737,4739,473b,473d,473f,4741,4743,4749,474b,474d,4759,475b,475f,4761,4763,4765,4769,476b,476cc,476d4,476dc,476f,4771,4773,4775,4777,4779,477b,477d,477eac,477eb1b,477eb1c4,477eb1cc,477eb1d4,477eb1dc,477f4,477fc,4781,4783,47844,4784c,47854,4785c,47864,47869,4786b,4786c1,4786c3,4786c7,4786f,4789,478b,478d,478e4,478ec,478f4,478fc,47904,47914,4791c,4795,4797,4799,479ac,479b4,479d,479f,47a1,47a3,47a5,47a7,47a844,47a849,47a84b,47a84d,47a84e1,47a84e3,47a84e5,47a84e7,47a84ec,47a84f4,47a84fc,47a8504,47a850c,47a8514,47a8519,47a851b,47a851c4,47a851cc,47a851d4,47a851dc,47a851f,47a853,47a857,47a85c,47a8c,47a94,47ab,47ad,47b1,47b3,47b5,47b7,47b9,47bb,47bd,47bf,47c1,47c24,47c2c,47c34,47c3d,47c3f,47c44,47c4c,47c5c,47c61,47c65,47c67,47c6c,47c74,47c7c,47c9,47cf,47d7,47d9,47dd,47df,47e1,47e5,47e61,47e664,47e66b,47e66d,47e66e1,47e66e24,47e66e2c,47e66e34,47e66e3c,47e66e5,47e66e7,47e66fb,47e66fd,47e66fe4,47e66fec,47e66ffc,47e6704,47e6719,47e671b,47e671d,47e671e4,47e671ec,47e671f4,47e671fc,47e673,47e67c,47e6c,47e9,47eb,47f3,47f5,47f7,47fd,47ff,4801,4805,480b,480d,480f,4811,4817,4843,48444,4844c,48454,4845c,484f,4859,485a4,485ac,485b4,485bc,485d,485f,48604,4860c,48614,4861c,4863,4865,486704,486709,48670d,48670e4,48670ec,48673,48675,4867c,4869,486b,486d,486f,48704,4870c,48714,4871c,4873,4875,487602c,4876033,48760344,4876034c,48760354,487603c,487604ac,487604b4,487604bc,487604c4,487604cc,487604d4,487604dc,487604f,4876051,4876053,4876055,48760c,487614,48761a4,48761ac,48761b4,48761bc,48761d,48763,48765,48767,4876c,48774,4877c,4879,487b,487d,487f,48844,4884c,48854,4885c,48864,4886c,48874,48879,4887b,4887c5,4887c64,4887c79,4887c7b,4887cc,4887d4,48883,488844,48884c,488854,48885c,48887,4888c,48894,4889c,488b,488d,488e4,488ec,488f4,488fc,4891,4893,489b,489f,48bd,48cd,48cf,48d1,48d3,48d5,48d64,48d6c,48d74,492b,4b0d,4b59,4b5b,4b5f,4cad,4caf,4cb1,4cb3,4cb5,4cb7,4cb9,4cc914,4cc919,4cc91a3,4cc91a5,4cc91a7,4cc91ac,4cc91b4,4cc91bc,4cc91d,4cc93,4cc9c,4ccb,4ccd,4ccf,4cd3,4cd5,4d2b,4d35,4d4b,4d4d,4d4f,4d51,4f2b,5133,52a7,52a9,52af,52b3,52b5,52b7,52c7,52c9,52eb,5333,5343,5345,534b,534d,534f,5351,5353,5355,535b,535d,5361,5363,5367,5369,536f,5371,5377,5379,5383,53a1,5401,540d,5473,5483,5485,54861,54866c,548671,548673,54874,5489,548d,548f,549004,549013,5490144,549014c,5490151,5490153,54901544,5490154c,54901554,5490155c,5490157,549015c,549017,54901c,54903,54905,54906a9,54906aa4,54906aac,54906ab1,54906ab3,54906ab5,54906abc,54906ad,54906d,54906f,54907c,5490c,54914,5491c,5493,54944,5494c,549504,54950c,54955,54957,54959,5495b,5495f,5497,5499,549b,549d,549f,54a1,54a3,54a5,54a9,54ad,54af,54b9,54bd,54bf,54c1,54c3,54c5,54c7,54c9,54cf,54d1,54db,54eb,56ab,56c7,56c9,56cd,56cf,5d97,5d9d,5da9,5f0b,5ff9,60009,6000d,6000f,60014,6001c,6003,60184,601884,601889,60188a4,60188b4,60188b9,60188bb,60188bd,60188bf,60188c4,60188cc,60188d4,60188dc,60188f,601894,6018e4,6018ec,6018f3,6018f5,60194,6019c,601b,601d,601f,6023,671f,6979,6aad,6ab1,6ad3,6ad5,6ad63,6ad644,6ad65c,6ad67,6ad6c,6b0d,6b124,6b129,6b12a4,6b12ab,6b12ad,6b12ae1,6b12ae3,6b12ae5,6b12ae7,6b12aec,6b12afc,6b12b4,6b12bc,6b12d,6b134,6b17,6b25,6b29,6b73,6b75,6b91,6b93,6b9d,6bd9,6bed,6c29,6d0d,6d25,6d2b,6d2f,6d31,6d37,6d39,6d3b,6d3d,6d41,6d6b,6d6d,6d6f,6d73,6e17,6e89,7193,71a5,7951,7953,79544,7954c,79554,7c001,7c005,7c0064,7c006c,7c0074,7c00c,7c07,7eab,8081,80844,80854,8085803,8085805,8085807,80858084,8085808c,80858094,8085809c,808580b,808580d,808580e4,808580ec,808580f4,808580fc,8085814,808585,8085864,8085869,808586d,808586f,8085874,808587c,808594,8085d,808d,808e4,808f74,808f7d,808f7e4,808f7ec,808f7f4,808f7fc,808f9,808fb,808fd,808ff,8091,8093,8095,8097,8099,809b,809d,809f,80a1,80ad,80b1,80b3,80b5,80bf,80c1,80c29,80c2a4,80c2b4,80c2b9,80c2bb,80c2bd,80c2be4,80c2bec,80c2bf4,80c2bfc,80c2c1,80c2c3,80c2c5,80c2c7,80c2cc,80c2dc,80c2f,80c34,80c5,80c7,80c8b,80c8d,80c94,80cb,80cd,80cf,80d1,80d9,80db,80dc4,80dcc,80dd4,80df,80e9,80eb,80ed,812b,8421,8425,8429,842b,842d,842f,8435,8589,858b,858f,85b9,85c3,85c7,85cb,85cd,85cf,85d1ec,85d1f9,85d1ff,85d3,85db,85ed,85f3,85f5,8621,8625,8627,8629,862b,8631,8637,863f,86409,8640b,8640d,86414,8643,8644b,8644d,8647,8649,864d,864f,8651,8653,865b,865d,8663,8665,8669,866f,8683,869f,86af,86b1,86d5,86d7,86d9,86df,86e1,86e5,86e7,86ef,86f3,86fb,86fd,86ff,8701,8703,8711,8713,8715,8717,8719,871f,8721,8723,8725,872a4,872b1,872b5,872b7,872bc,872d,872f,8733,8735,8737,8739,873b,873d,873f,8741,8743,8747,8749,874b,874d,8751,8753,8755,8763,8765,8769,876a4,876ac,876b4,876bc,876d,876f,8771,877b,877d,877f,8791,8793,8795,8797,8799,87a1,87a5,87ab,87ad,87b1,87b3,87b7,87b9,87bb,87bd,87bf,87c1,87c5,87c9,87cd,87cf,87d3,87d5,87d9,87db,87dd,87df,87e3,87e5,87e7,87eb,87ed,87ef,87f1,87f5,87f7,87f9,87fb,87fd,8803,8805,8807,8809,880b,880d,880e29,880e2b,880e2c4,880e2c9,880e2ca1,880e2ca3,880e2ca5,880e2ca7,880e2cac,880e2cb4,880e2cbc,880e2cd,880e2cf,880e2d4,880e2f,880e34,880e5,880ec,880f4,880fb,880fc4,880fcc,880fd1,880fd24,880fd2c,880fd34,880fd3c,880fd5,8811,8813,8815,8817,8819,881b,881d,881f,8823,8825,882ac,882b2c,882b31,882b33,882b344,882b349,882b34b,882b34c4,882b34cc,882b34d4,882b34dc,882b34f,882b354,882b35c,882b37,882b3c,882b5,882bc,882d,882f,8830c,88314,8831c,8833,8835,8837,8839,883a4,883b4,883bc,883d,883f,8841,8843,8847,8849,884b,884d,884f,8851,8853,8857,8859,885b,885d,885f,8861,8863,8865,8867,8869,886b,886d,886f,8871,8875,887d,887f,8881,8887,8889,888b,888d,888f,8891,8893,889b,889d,889f,88c3,88cd,88d1,88d3,88d7,88d8c,88d94,88d9ac,88d9b4,88d9bc,88d9d,88d9f,88db,88dd4,88ddc,88df,88e1,88e5,88e6c,88e74,88e7c,88e9,88ed,88f1,88f3,88f4c,88f503,88f505,88f507,88f50c,88f514,88f53,88f55,88f57,88f5c,88f7,88f9,88fb,88ff,8901,8925,8927,892f,8931,89a5,89a9,89ab,89ad,89af,89b04,89b0c,89b14,89b1c,89b3,89b5,89b64,89b6c,89b7ac,89b7b1,89b7b5,89b7b64,89b7b6c,89b7b74,89b7b784,89b7b78c,89b7b794,89b7b79c,89b7b7a4,89b7b7ac,89b7b7b4,89b7b7bc,89b7b7d,89b7b7f,89b7bc,89b7d,89b7f,89b9,89bb,89bf,89c1,89c23,89c244,89c24c,89c251,89c253,89c255,89c257,89c2583,89c2584c,89c25853,89c25855,89c25857,89c2585c,89c2587,89c25884,89c2588c,89c25894,89c2589c,89c258b,89c258d,89c258e4,89c258ec,89c258f4,89c258f9,89c258fb,89c258fd,89c258ff,89c2591,89c2593,89c2595,89c2597,89c25984,89c2598c,89c25994,89c2599c,89c259a4,89c259ac,89c259b4,89c259bc,89c259d,89c259f,89c25a0c,89c25a14,89c25a1c,89c25a24,89c25a2c,89c25a34,89c25a3c,89c25a5,89c25a7,89c25ac,89c25b4,89c25bc,89c25d,89c25f,89c27,89c29,89c2d,89c2f3,89c2f5,89c2f7,89c2fc,89c34,89c3c,89c5,89c64,89c69,89c6b,89c6c5,89c6c7,89c6cc,89c6f,89c74,89c7c,89c84,89c8c,89c9c,89cb,89cf,89d1,89d3,89d4cac,89d4cb4,89d4cbc,89d4cd,89d4d4,89d4dc,89d54,89d7,89d9,89db,89dd,89df,89e1,89e24,89e2c,89e31,89e33,89e364,89e36c,89e3704,89e37084,89e3708c,89e37094,89e3709c,89e370b,89e370f,89e373,89e377,89e379,89e37a1,89e37a7,89e37ac,89e3c,89e44,89e4c,89e54,89e5c,89e64,89e6c,89e74,89e7c,89e9,89fb,89fd,8a2d,8c03,8c05,8c0f,8c13,8c2b,8c43,8d09,8e2b,8e3f,8e41,8e45,8e47,8e65,8e81,8e83,8e85,8ea9,8ecf,8edb,8ef7,8f25,8f2b,8f4d,8f4f,8f51,8f57,8f5d,8f5f,8f63,8f65,8f67,8f69,8f6f,8f71,8f73,8f75,8f7b,8f9f,8fa1,8fa5,8fa7,8fab,8fad,9007,902d,9105,9111,9143,9155,915d,915f,916d,91cd,91d3,91d5,935b,93e3,93f1,93f9,93ff,9423,942d,9433,9445,94cd,94cf,94dd,94f7,9519,9527,9575,959f,95a3,95b7,95bcb,95bcd,9611,9613,9615,9617,961b,9623,9663,9669,967d,967f,9687,9689,9691,96a9,96ab,9aab,a829,a82f,a9d5,aa6d,aa6f,aa71,aa83,bc2b,bc4d,bda5,bdbb,be81\n"
     ]
    }
   ],
   "source": [
    "# Print tokens for viz (paste into s2.inair.space)\n",
    "print(\",\".join(tokens))"
   ]
  },
  {
   "cell_type": "markdown",
   "metadata": {},
   "source": [
    "## Annotate the target dataset using the above s2 cell tree"
   ]
  },
  {
   "cell_type": "code",
   "execution_count": 5,
   "metadata": {},
   "outputs": [
    {
     "name": "stdout",
     "output_type": "stream",
     "text": [
      "1776\n"
     ]
    },
    {
     "name": "stderr",
     "output_type": "stream",
     "text": [
      "100%|██████████| 2997/2997 [00:00<00:00, 10372.90it/s]\n"
     ]
    }
   ],
   "source": [
    "#cell_set = set(candidate_celldicts.keys())\n",
    "mapping = label_mapping.LabelMapping.read_csv(TRAIN_CELLS_PATH / \"cells.csv\")\n",
    "cell_set = set([s2sphere.CellId.from_token(token).id() for token in mapping.name_to_label.keys()])\n",
    "print(len(cell_set))\n",
    "target_df = pandas.read_pickle(TARGET_DF_PATH)\n",
    "\n",
    "s2cell_labels = []\n",
    "for row in tqdm.tqdm(target_df.itertuples(), total=len(target_df.index)):\n",
    "    latlng = s2sphere.LatLng.from_degrees(row.latitude, row.longitude)\n",
    "    s2_cell_id = s2sphere.CellId.from_lat_lng(latlng)\n",
    "\n",
    "    while s2_cell_id.id() not in cell_set:\n",
    "        if s2_cell_id.level() < MIN_CELL_LEVEL:\n",
    "            break\n",
    "        s2_cell_id = s2_cell_id.parent()\n",
    "\n",
    "    if s2_cell_id.id() not in cell_set:\n",
    "        # This example can't be labeled\n",
    "        s2cell_labels.append(None)\n",
    "    else:\n",
    "        s2cell_labels.append(s2_cell_id.to_token())\n",
    "        assert s2_cell_id.to_token() in mapping.name_to_label\n",
    "\n",
    "target_df[\"s2cell\"] = s2cell_labels\n",
    "target_df.to_pickle(DATASET_OUT_PATH / \"s2_annotated.pkl\")"
   ]
  }
 ],
 "metadata": {
  "kernelspec": {
   "display_name": "Python 3",
   "language": "python",
   "name": "python3"
  },
  "language_info": {
   "codemirror_mode": {
    "name": "ipython",
    "version": 3
   },
   "file_extension": ".py",
   "mimetype": "text/x-python",
   "name": "python",
   "nbconvert_exporter": "python",
   "pygments_lexer": "ipython3",
   "version": "3.11.7"
  }
 },
 "nbformat": 4,
 "nbformat_minor": 2
}

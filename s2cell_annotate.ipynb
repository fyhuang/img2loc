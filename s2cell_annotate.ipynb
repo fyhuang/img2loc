{
 "cells": [
  {
   "cell_type": "markdown",
   "metadata": {},
   "source": [
    "# Annotate a (web)dataset with the S2 cell of each example\n",
    "\n",
    "Create a tree of S2 cells adaptively, making sure each cell doesn't have too many/few examples.\n",
    "\n",
    "Apply the S2 cell tree to a webdataset, labeling each example with the smallest S2 cell in the tree that contains the lat/lng of the example."
   ]
  },
  {
   "cell_type": "code",
   "execution_count": 1,
   "metadata": {},
   "outputs": [],
   "source": [
    "%load_ext autoreload\n",
    "%autoreload 2\n",
    "import collections\n",
    "from pathlib import Path\n",
    "\n",
    "import pandas\n",
    "import webdataset\n",
    "import s2sphere\n",
    "\n",
    "import tqdm\n",
    "\n",
    "from mlutil import label_mapping\n",
    "\n",
    "MIN_CELL_LEVEL = 6\n",
    "MAX_CELL_LEVEL = 23\n",
    "\n",
    "CELL_MAX_EXAMPLES = 10000\n",
    "CELL_MIN_EXAMPLES = 100\n",
    "\n",
    "IM2GPS_2007_PATH = Path.home() / \"datasets\" / \"im2gps\" / \"outputs\" / \"im2gps_2007.pkl\"\n",
    "SV_WORLD1_PATH = Path.home() / \"datasets\" / \"img2loc\" / \"outputs\" / \"world1\" / \"s3_parameterized.pkl\"\n",
    "\n",
    "train_df = pandas.concat([pandas.read_pickle(IM2GPS_2007_PATH), pandas.read_pickle(SV_WORLD1_PATH)])"
   ]
  },
  {
   "cell_type": "markdown",
   "metadata": {},
   "source": [
    "## Analyse the train dataset to build the S2 cell tree"
   ]
  },
  {
   "cell_type": "code",
   "execution_count": 2,
   "metadata": {},
   "outputs": [
    {
     "name": "stderr",
     "output_type": "stream",
     "text": [
      "100%|██████████| 795013/795013 [00:13<00:00, 57119.30it/s]\n"
     ]
    }
   ],
   "source": [
    "# Format: {level: {cell_id: (child_cell_id, ...)}}\n",
    "cells_by_level = collections.defaultdict(lambda: collections.defaultdict(set))\n",
    "\n",
    "# Build the cell_by_id index and initialize cells_by_level\n",
    "for row in tqdm.tqdm(train_df.itertuples(), total=len(train_df.index)):\n",
    "    latlng = s2sphere.LatLng.from_degrees(row.latitude, row.longitude)\n",
    "    s2_cell_id = s2sphere.CellId.from_lat_lng(latlng).parent(MAX_CELL_LEVEL)\n",
    "\n",
    "    parent_cell = s2_cell_id.parent(MIN_CELL_LEVEL)\n",
    "    cells_by_level[parent_cell.level()][parent_cell.id()].add(s2_cell_id.id())"
   ]
  },
  {
   "cell_type": "code",
   "execution_count": 5,
   "metadata": {},
   "outputs": [
    {
     "name": "stderr",
     "output_type": "stream",
     "text": [
      "Level 1: 0it [00:00, ?it/s]\n",
      "Level 2: 0it [00:00, ?it/s]"
     ]
    },
    {
     "name": "stderr",
     "output_type": "stream",
     "text": [
      "Level 2: 0it [00:00, ?it/s]\n",
      "Level 3: 0it [00:00, ?it/s]\n",
      "Level 4: 0it [00:00, ?it/s]\n",
      "Level 5: 0it [00:00, ?it/s]\n",
      "Level 6: 100%|██████████| 4746/4746 [00:00<00:00, 1500087.93it/s]\n",
      "Level 7: 100%|██████████| 4/4 [00:00<00:00, 104857.60it/s]\n",
      "Level 8: 0it [00:00, ?it/s]\n",
      "Level 9: 0it [00:00, ?it/s]\n",
      "Level 10: 0it [00:00, ?it/s]\n",
      "Level 11: 0it [00:00, ?it/s]\n",
      "Level 12: 0it [00:00, ?it/s]\n",
      "Level 13: 0it [00:00, ?it/s]\n",
      "Level 14: 0it [00:00, ?it/s]\n",
      "Level 15: 0it [00:00, ?it/s]\n",
      "Level 16: 0it [00:00, ?it/s]\n",
      "Level 17: 0it [00:00, ?it/s]\n",
      "Level 18: 0it [00:00, ?it/s]\n",
      "Level 19: 0it [00:00, ?it/s]\n",
      "Level 20: 0it [00:00, ?it/s]\n",
      "Level 21: 0it [00:00, ?it/s]\n",
      "Level 22: 0it [00:00, ?it/s]"
     ]
    },
    {
     "name": "stdout",
     "output_type": "stream",
     "text": [
      "Number of cells = 773\n",
      "            cell_id        count\n",
      "count  7.730000e+02   773.000000\n",
      "mean   5.946330e+18   491.102199\n",
      "std    3.103764e+18   775.948650\n",
      "min    4.306567e+16   100.000000\n",
      "25%    3.843541e+18   156.000000\n",
      "50%    5.182799e+18   253.000000\n",
      "75%    9.716235e+18   506.000000\n",
      "max    1.223769e+19  9391.000000\n"
     ]
    },
    {
     "name": "stderr",
     "output_type": "stream",
     "text": [
      "\n"
     ]
    }
   ],
   "source": [
    "# Walk the tree and split cells\n",
    "for level in range(1, MAX_CELL_LEVEL):\n",
    "    celldict = cells_by_level[level]\n",
    "    for cell_id, cellset in tqdm.tqdm(celldict.items(), desc=f\"Level {level}\"):\n",
    "        if len(cellset) <= CELL_MAX_EXAMPLES:\n",
    "            continue\n",
    "\n",
    "        next_level = level+1\n",
    "        for child_id in cellset:\n",
    "            child_cell = s2sphere.CellId(child_id)\n",
    "            next_level_parent = child_cell.parent(next_level)\n",
    "            cells_by_level[next_level][next_level_parent.id()].add(child_id)\n",
    "        cellset.clear()\n",
    "\n",
    "# Flatten the cells_by_level dict and remove cells with too few examples\n",
    "candidate_celldicts = {}\n",
    "for level, celldict in cells_by_level.items():\n",
    "    for cell_id, cellset in celldict.items():\n",
    "        if len(cellset) >= CELL_MIN_EXAMPLES:\n",
    "            candidate_celldicts[cell_id] = cellset\n",
    "\n",
    "print(f\"Number of cells = {len(candidate_celldicts)}\")\n",
    "cell_counts = pandas.DataFrame([(cell_id, len(cellset)) for cell_id, cellset in candidate_celldicts.items()], columns=[\"cell_id\", \"count\"])\n",
    "print(cell_counts.describe())\n",
    "\n",
    "candidate_tokens = [s2sphere.CellId(cell_id).to_token() for cell_id in sorted(candidate_celldicts.keys())]"
   ]
  },
  {
   "cell_type": "code",
   "execution_count": 4,
   "metadata": {},
   "outputs": [
    {
     "name": "stdout",
     "output_type": "stream",
     "text": [
      "0099,009b,00a7,00b7,00b9,0717,07ab,07c7,0c41,0c47,0c61,0c6b,0d0d,0d11,0d13,0d17,0d19,0d1b,0d1f,0d23,0d25,0d2f,0d31,0d37,0d3b,0d3d,0d3f,0d41,0d43,0d45,0d47,0d49,0d4f,0d51,0d55,0d57,0d59,0d61,0d63,0d65,0d6b,0d6d,0d71,0d73,0da7,0daf,0ec1,0fdf,1039,103b,1297,12a1,12a3,12a5,12a7,12a9,12ab,12ad,12af,12b1,12b3,12b5,12b7,12bb,12c9,12cb,12cd,12cf,12d3,12d5,12dd,12e7,1311,1313,1315,1325,1329,132b,132d,132f,1331,1335,1339,133b,1345,1347,134b,134d,1351,1359,135b,135d,135f,1361,1449,1459,1495,1499,149b,149d,149f,14a1,14a3,14a9,14ad,14bb,14bf,14c3,14cb,14d3,14df,14e7,14f5,1501,1503,1519,151d,151f,152b,1559,177d,1829,182d,182f,1835,185d,19cd,19dd,1dcd,1e95,1ec3,1ef7,2a33,2d95,2dbf,2dcd,2dd1,2dd3,2dd7,2de5,2e41,2e43,2e65,2e69,2e6b,2e6f,2e71,2e77,2e79,2e7b,2fd5,3031,304b,3051,3055,30d7,30db,30e3,3103,3109,3111,3119,311d,3135,3143,3175,31cd,31db,3287,32f9,338f,3391,3397,33a1,33a9,33ab,33bd,3401,3403,3405,3443,345d,3469,346f,34e5,353f,3541,3543,3545,354f,3551,3553,3555,3557,355b,356b,357b,357d,35b3,35f1,3693,3755,3883,390d,3919,395f,3963,3967,396d,3975,398f,3995,39e5,39eb,39f9,39ff,3a03,3a53,3ae3,3b05,3b07,3b09,3ba5,3ba7,3ba9,3bab,3baf,3bbf,3bc3,3bcb,3be7,3e49,3e5f,3f8f,3fbd,3fcf,4045,40a5,40a7,40a9,40ab,40b3,40d5,40e3,40f1,4127,4135,414b,45c5,45db,45dd,45df,4613,4615,4617,4639,463b,463d,463f,4641,4643,4645,4647,4649,464b,464d,464f,4651,4653,4657,4659,465b,465d,465f,466b,466d,4681,4685,4687,4689,468d,468f,4691,4693,4697,469b,46b5,46dd,46e1,46e3,46e5,46e7,46e9,46eb,46ef,46fd,4701,4703,4705,4707,4709,470b,470d,470f,4711,4713,4715,4717,4719,471b,471d,471f,4721,4723,4739,473b,473d,473f,4741,4743,4745,4749,474b,475b,4761,4763,4765,4767,4769,476b,476d,476f,4771,4773,4775,4777,4779,477b,477d,477f,4781,4783,4785,4787,4789,478b,478d,478f,4791,4793,4795,4797,4799,479b,479d,479f,47a1,47a3,47a5,47a7,47a9,47ab,47ad,47af,47b1,47b3,47b7,47b9,47bb,47bd,47bf,47c1,47c3,47c5,47c7,47c9,47cf,47d9,47dd,47df,47e1,47e3,47e5,47e7,47e9,47eb,47ed,47ef,47f1,47f3,47f5,47f7,47f9,47fb,47fd,47ff,4801,4805,4807,4809,480b,480d,480f,4811,4813,4817,4843,4845,484f,4859,485b,485d,485f,4861,4863,4865,4867,4869,486b,486d,486f,4871,4873,4875,4877,4879,487b,487d,487f,4885,4887,4889,488b,488d,488f,489b,48bd,48cd,48d1,48d3,48d5,48d7,4b59,4b5b,4cad,4caf,4cb3,4cb5,4cb7,4cb9,4cc9,4ccb,4ccd,4ccf,4cd3,4d35,52af,52b3,52eb,534f,5351,5353,5371,53a1,5401,5485,5487,5489,548f,5491,5493,5495,5497,5499,549b,549f,54a3,54af,54bf,54c1,54c5,54c7,54cf,54eb,56c7,56c9,5d97,5f0b,5f0d,5f73,5f75,5f85,5f89,5f8b,5f8f,5f9b,5f9f,5ff5,5ff7,5ff9,6001,6003,6005,6007,6019,601b,601d,601f,6021,6023,671f,6979,6ab1,6ad5,6ad7,6b0d,6b13,6b17,6b73,6b91,6b93,6d0d,6d2b,6d31,6d39,6d41,6d6b,6d6d,6d73,7953,7955,7c01,7c07,7eab,8085,808d,808f,8091,8095,8097,8099,809b,80bf,80c3,80c9,80cb,80cf,80d9,80db,80dd,80e9,80eb,80ed,8421,8429,842b,8589,858f,85cd,85cf,85d1,85d3,85ed,8621,8625,8627,8637,863f,8641,8645,8647,8649,864d,864f,865b,865d,8663,8669,86af,86d7,8701,8713,8715,8717,8719,8723,872b,872d,8733,8735,8737,873f,8741,8747,8749,874b,874d,8753,8765,8769,876b,876d,876f,877d,8793,8797,87b3,87b7,87bb,87bf,87c1,87c9,87cf,87d3,87d5,87d9,87df,87e3,87e5,87ef,87f7,87f9,8803,8805,8807,8809,880b,880f,8811,8815,8817,8819,8823,8825,882b,882d,882f,8831,8833,8835,8837,8839,883b,883d,883f,8841,8843,8847,8849,884b,884d,884f,8851,8853,8855,8857,8859,885b,885d,885f,8861,8863,8865,8867,8869,886b,886d,8871,8875,887f,8889,888b,888d,888f,8891,8893,889b,889d,88c3,88cd,88d1,88d9,88db,88dd,88df,88e1,88e5,88e7,88e9,88ed,88f3,88f5,88f7,88f9,88fb,88ff,8901,892f,89a5,89a9,89ab,89ad,89af,89b1,89b3,89b5,89b7,89b9,89bb,89c1,89c24,89c2c,89c34,89c3c,89c5,89c7,89c9,89cb,89cf,89d1,89d3,89d5,89d7,89d9,89dd,89df,89e1,89e3,89e5,89e7,89e9,89fb,8c03,8c13,8c2b,8c43,8d09,8e3f,8e41,8e45,8e47,8e85,8ef5,8f4d,8f4f,8f51,8f5d,8f5f,8f63,8f69,8f75,8fa1,8fad,9105,915d,915f,916d,91d5,935b,94c9,94cf,94dd,94df,94f7,9519,959f,95a3,95b7,95bd,9663,9689,9aab,a9d5\n"
     ]
    }
   ],
   "source": [
    "# Print tokens for viz (paste into s2.inair.space)\n",
    "print(\",\".join(candidate_tokens))"
   ]
  },
  {
   "cell_type": "code",
   "execution_count": null,
   "metadata": {},
   "outputs": [],
   "source": [
    "# Save the cell mapping to disk\n",
    "TRAIN_CELLS_PATH = Path.home() / \"datasets\" / \"im2gps\" / \"outputs\" / \"s2cell_2007\"\n",
    "\n",
    "mapping = label_mapping.LabelMapping(candidate_tokens)\n",
    "mapping.to_csv(TRAIN_CELLS_PATH / \"cells.csv\")"
   ]
  },
  {
   "cell_type": "markdown",
   "metadata": {},
   "source": [
    "## Annotate the target dataset using the above s2 cell tree"
   ]
  },
  {
   "cell_type": "code",
   "execution_count": 5,
   "metadata": {},
   "outputs": [
    {
     "name": "stdout",
     "output_type": "stream",
     "text": [
      "1776\n"
     ]
    },
    {
     "name": "stderr",
     "output_type": "stream",
     "text": [
      "100%|██████████| 2997/2997 [00:00<00:00, 10372.90it/s]\n"
     ]
    }
   ],
   "source": [
    "#cell_set = set(candidate_celldicts.keys())\n",
    "mapping = label_mapping.LabelMapping.read_csv(TRAIN_CELLS_PATH / \"cells.csv\")\n",
    "cell_set = set([s2sphere.CellId.from_token(token).id() for token in mapping.name_to_label.keys()])\n",
    "print(len(cell_set))\n",
    "target_df = pandas.read_pickle(TARGET_DF_PATH)\n",
    "\n",
    "s2cell_labels = []\n",
    "for row in tqdm.tqdm(target_df.itertuples(), total=len(target_df.index)):\n",
    "    latlng = s2sphere.LatLng.from_degrees(row.latitude, row.longitude)\n",
    "    s2_cell_id = s2sphere.CellId.from_lat_lng(latlng)\n",
    "\n",
    "    while s2_cell_id.id() not in cell_set:\n",
    "        if s2_cell_id.level() < MIN_CELL_LEVEL:\n",
    "            break\n",
    "        s2_cell_id = s2_cell_id.parent()\n",
    "\n",
    "    if s2_cell_id.id() not in cell_set:\n",
    "        # This example can't be labeled\n",
    "        s2cell_labels.append(None)\n",
    "    else:\n",
    "        s2cell_labels.append(s2_cell_id.to_token())\n",
    "        assert s2_cell_id.to_token() in mapping.name_to_label\n",
    "\n",
    "target_df[\"s2cell\"] = s2cell_labels\n",
    "target_df.to_pickle(DATASET_OUT_PATH / \"s2_annotated.pkl\")"
   ]
  }
 ],
 "metadata": {
  "kernelspec": {
   "display_name": "Python 3",
   "language": "python",
   "name": "python3"
  },
  "language_info": {
   "codemirror_mode": {
    "name": "ipython",
    "version": 3
   },
   "file_extension": ".py",
   "mimetype": "text/x-python",
   "name": "python",
   "nbconvert_exporter": "python",
   "pygments_lexer": "ipython3",
   "version": "3.11.7"
  }
 },
 "nbformat": 4,
 "nbformat_minor": 2
}

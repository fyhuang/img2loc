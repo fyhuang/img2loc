{
 "cells": [
  {
   "cell_type": "code",
   "execution_count": null,
   "metadata": {},
   "outputs": [],
   "source": [
    "from pathlib import Path\n",
    "\n",
    "import torch\n",
    "import webdataset as wds\n",
    "\n",
    "def auto_batch_size():\n",
    "    if not torch.cuda.is_available():\n",
    "        return 1 # CPU\n",
    "\n",
    "    dev_name = torch.cuda.get_device_name(0)\n",
    "    if dev_name == 'NVIDIA A10':\n",
    "        return 128\n",
    "    else:\n",
    "        print(\"Unknown device:\", dev_name)\n",
    "        return 1\n",
    "\n",
    "DATASET_ROOT = Path.home() / \"datasets\" / \"img2loc\" / \"wds\""
   ]
  }
 ],
 "metadata": {
  "language_info": {
   "name": "python"
  }
 },
 "nbformat": 4,
 "nbformat_minor": 2
}

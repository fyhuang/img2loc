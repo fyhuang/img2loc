{
 "cells": [
  {
   "cell_type": "code",
   "execution_count": 16,
   "metadata": {},
   "outputs": [
    {
     "name": "stdout",
     "output_type": "stream",
     "text": [
      "The autoreload extension is already loaded. To reload it, use:\n",
      "  %reload_ext autoreload\n"
     ]
    }
   ],
   "source": [
    "%load_ext autoreload\n",
    "%autoreload 2\n",
    "\n",
    "from datasets import Im2gps2007, Im2gpsTest"
   ]
  },
  {
   "cell_type": "code",
   "execution_count": 19,
   "metadata": {},
   "outputs": [
    {
     "name": "stdout",
     "output_type": "stream",
     "text": [
      "Unknown device: NVIDIA GeForce GTX 1070\n",
      "torch.Size([2, 3, 224, 224]) torch.Size([2])\n"
     ]
    }
   ],
   "source": [
    "# Check Im2gps2007\n",
    "for inputs, targets in Im2gps2007(\"v1\").train_dataloader():\n",
    "    print(inputs.shape, targets.shape)\n",
    "    break\n",
    "for inputs, targets in Im2gps2007(\"v1\").val_dataloader():\n",
    "    print(inputs.shape, targets.shape)\n",
    "    break"
   ]
  },
  {
   "cell_type": "code",
   "execution_count": 7,
   "metadata": {},
   "outputs": [],
   "source": [
    "# Check Im2gpsTest\n",
    "for inputs, targets in Im2gpsTest().test_dataloader_3k():\n",
    "    print(inputs.shape, targets.shape)\n",
    "    break"
   ]
  }
 ],
 "metadata": {
  "kernelspec": {
   "display_name": "Python 3",
   "language": "python",
   "name": "python3"
  },
  "language_info": {
   "codemirror_mode": {
    "name": "ipython",
    "version": 3
   },
   "file_extension": ".py",
   "mimetype": "text/x-python",
   "name": "python",
   "nbconvert_exporter": "python",
   "pygments_lexer": "ipython3",
   "version": "3.11.7"
  }
 },
 "nbformat": 4,
 "nbformat_minor": 2
}

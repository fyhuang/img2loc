{
 "cells": [
  {
   "cell_type": "markdown",
   "metadata": {},
   "source": [
    "# Tiny model, 2 class\n",
    "\n",
    "## Using pytorch lightning"
   ]
  },
  {
   "cell_type": "code",
   "execution_count": 1,
   "metadata": {},
   "outputs": [
    {
     "data": {
      "text/plain": [
       "True"
      ]
     },
     "execution_count": 1,
     "metadata": {},
     "output_type": "execute_result"
    }
   ],
   "source": [
    "import torchvision.models as models\n",
    "import torch\n",
    "import torch.nn as nn\n",
    "import torch.optim as optim\n",
    "import torchvision.transforms as T\n",
    "import numpy as np\n",
    "import matplotlib.pyplot as plt\n",
    "\n",
    "import lightning as L\n",
    "from lightning.pytorch.loggers import TensorBoardLogger\n",
    "\n",
    "import torchmetrics\n",
    "\n",
    "torch.cuda.is_available()"
   ]
  },
  {
   "cell_type": "code",
   "execution_count": 2,
   "metadata": {},
   "outputs": [
    {
     "name": "stdout",
     "output_type": "stream",
     "text": [
      "torch.Size([16, 3, 640, 640]) torch.Size([16])\n"
     ]
    }
   ],
   "source": [
    "import webdataset as wds\n",
    "\n",
    "BATCH_SIZE = 16 # approx 400 batches\n",
    "\n",
    "dataset = wds.WebDataset(\"/home/fyhuang/LocalProjects/img2loc_dataset/outputs/california_tiny.tar\")\\\n",
    "    .decode(\"torchrgb\").to_tuple(\"jpg\", \"json\")\n",
    "\n",
    "# Transform the labels to either ncal or scal\n",
    "def to_img_label(sample):\n",
    "    img, target = sample\n",
    "    label = 0 if target[\"district\"].lower() in [\"alameda\", \"contra costa\", \"marin\", \"napa\", \"san francisco\", \"san mateo\", \"santa clara\", \"solano\", \"sonoma\", \"sacramento\"] else 1\n",
    "    # TODO: this is where we transform the image\n",
    "    return img, label\n",
    "\n",
    "dataset = dataset.map(to_img_label)\n",
    "dataset = dataset.batched(BATCH_SIZE)\n",
    "\n",
    "# Visualize a few loaded samples\n",
    "dataloader = wds.WebLoader(dataset, batch_size=None, num_workers=0)\n",
    "#dataloader = dataloader.unbatched().shuffle(1000).batched(BATCH_SIZE)\n",
    "\n",
    "for inputs, targets in dataloader:\n",
    "    print(inputs.shape, targets.shape)\n",
    "    break"
   ]
  },
  {
   "cell_type": "code",
   "execution_count": 3,
   "metadata": {},
   "outputs": [
    {
     "name": "stderr",
     "output_type": "stream",
     "text": [
      "GPU available: True (cuda), used: True\n",
      "TPU available: False, using: 0 TPU cores\n",
      "IPU available: False, using: 0 IPUs\n",
      "HPU available: False, using: 0 HPUs\n",
      "LOCAL_RANK: 0 - CUDA_VISIBLE_DEVICES: [0]\n",
      "\n",
      "  | Name       | Type               | Params\n",
      "--------------------------------------------------\n",
      "0 | features   | Sequential         | 3.0 M \n",
      "1 | avgpool    | AdaptiveAvgPool2d  | 0     \n",
      "2 | classifier | Sequential         | 1.2 M \n",
      "3 | accuracy   | MulticlassAccuracy | 0     \n",
      "--------------------------------------------------\n",
      "4.2 M     Trainable params\n",
      "0         Non-trainable params\n",
      "4.2 M     Total params\n",
      "16.818    Total estimated model params size (MB)\n"
     ]
    },
    {
     "name": "stdout",
     "output_type": "stream",
     "text": [
      "Epoch 9: 100%|██████████| 40/40 [00:11<00:00,  3.34it/s, v_num=13, train_acc_step=0.688, train_loss=0.514]  "
     ]
    },
    {
     "name": "stderr",
     "output_type": "stream",
     "text": [
      "`Trainer.fit` stopped: `max_epochs=10` reached.\n"
     ]
    },
    {
     "name": "stdout",
     "output_type": "stream",
     "text": [
      "Epoch 9: 100%|██████████| 40/40 [00:12<00:00,  3.33it/s, v_num=13, train_acc_step=0.688, train_loss=0.514]\n"
     ]
    }
   ],
   "source": [
    "# Define a LightningModule for the classifier\n",
    "class NcalScalClassifierMnet3(L.LightningModule):\n",
    "    def __init__(self):\n",
    "        super().__init__()\n",
    "\n",
    "        mnet3 = models.mobilenet_v3_large(weights=\"IMAGENET1K_V2\")\n",
    "\n",
    "        self.features = mnet3.features\n",
    "        self.avgpool = mnet3.avgpool\n",
    "        self.classifier = nn.Sequential(\n",
    "            nn.Linear(mnet3.classifier[0].in_features, 1280),\n",
    "            nn.Hardswish(inplace=True),\n",
    "            nn.Dropout(p=0.2, inplace=True),\n",
    "            nn.Linear(1280, 2),\n",
    "        )\n",
    "\n",
    "        torch.nn.init.xavier_uniform_(self.classifier[0].weight)\n",
    "        torch.nn.init.xavier_uniform_(self.classifier[3].weight)\n",
    "\n",
    "        self.accuracy = torchmetrics.classification.Accuracy(task='multiclass', num_classes=2)\n",
    "\n",
    "    def forward(self, x):\n",
    "        with torch.no_grad():\n",
    "            x = self.features(x)\n",
    "            x = self.avgpool(x)\n",
    "            x = torch.flatten(x, 1)\n",
    "        x = self.classifier(x)\n",
    "        return x\n",
    "\n",
    "    def training_step(self, batch, batch_idx):\n",
    "        x, y = batch\n",
    "        z = self.forward(x)\n",
    "        self.accuracy(z, y)\n",
    "        self.log('train_acc_step', self.accuracy, prog_bar=True)\n",
    "\n",
    "        loss = nn.CrossEntropyLoss()(z, y)\n",
    "        self.log(\"train_loss\", loss, prog_bar=True)\n",
    "        return loss\n",
    "\n",
    "    def configure_optimizers(self):\n",
    "        return optim.Adam(self.parameters(), lr=0.001)\n",
    "\n",
    "clas = NcalScalClassifierMnet3()\n",
    "logger = TensorBoardLogger(\"tiny_2class_lightning\")\n",
    "trainer = L.Trainer(\n",
    "    max_epochs=10,\n",
    "    limit_train_batches=40,\n",
    "    #deterministic=True,\n",
    "    logger=logger,\n",
    "    log_every_n_steps=1,\n",
    ")\n",
    "\n",
    "trainer.fit(model=clas, train_dataloaders=dataloader)"
   ]
  }
 ],
 "metadata": {
  "kernelspec": {
   "display_name": "Python 3",
   "language": "python",
   "name": "python3"
  },
  "language_info": {
   "codemirror_mode": {
    "name": "ipython",
    "version": 3
   },
   "file_extension": ".py",
   "mimetype": "text/x-python",
   "name": "python",
   "nbconvert_exporter": "python",
   "pygments_lexer": "ipython3",
   "version": "3.11.7"
  }
 },
 "nbformat": 4,
 "nbformat_minor": 2
}

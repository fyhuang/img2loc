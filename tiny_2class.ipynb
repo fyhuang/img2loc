{
 "cells": [
  {
   "cell_type": "markdown",
   "metadata": {},
   "source": [
    "# Tiny model -- classify northern or southern california"
   ]
  },
  {
   "cell_type": "code",
   "execution_count": 3,
   "metadata": {},
   "outputs": [
    {
     "data": {
      "text/plain": [
       "True"
      ]
     },
     "execution_count": 3,
     "metadata": {},
     "output_type": "execute_result"
    }
   ],
   "source": [
    "import torchvision.models as models\n",
    "import torch\n",
    "import torch.nn as nn\n",
    "import torch.optim as optim\n",
    "import torchvision.transforms as T\n",
    "import numpy as np\n",
    "import matplotlib.pyplot as plt\n",
    "\n",
    "torch.cuda.is_available()"
   ]
  },
  {
   "cell_type": "code",
   "execution_count": 6,
   "metadata": {},
   "outputs": [
    {
     "name": "stdout",
     "output_type": "stream",
     "text": [
      "torch.Size([16, 3, 640, 640]) torch.Size([16])\n"
     ]
    }
   ],
   "source": [
    "import torch\n",
    "import webdataset as wds\n",
    "\n",
    "BATCH_SIZE = 16\n",
    "\n",
    "dataset = wds.WebDataset(\"/home/fyhuang/LocalProjects/img2loc_dataset/outputs/california_tiny.tar\")\\\n",
    "    .decode(\"torchrgb\").to_tuple(\"jpg\", \"json\")\n",
    "    #.shuffle(1000)\\\n",
    "\n",
    "# Transform the labels to either ncal or scal\n",
    "def to_nslabel(sample):\n",
    "    inputs, target = sample\n",
    "    target = dict(target)\n",
    "    #target[\"label\"] = \"ncal\" if target[\"district\"].lower() in [\"alameda\", \"contra costa\", \"marin\", \"napa\", \"san francisco\", \"san mateo\", \"santa clara\", \"solano\", \"sonoma\", \"sacramento\"] else \"scal\"\n",
    "    target[\"label\"] = 0 if target[\"district\"].lower() in [\"alameda\", \"contra costa\", \"marin\", \"napa\", \"san francisco\", \"san mateo\", \"santa clara\", \"solano\", \"sonoma\", \"sacramento\"] else 1\n",
    "    target[\"label\"] = torch.tensor([target[\"label\"]])\n",
    "    return inputs, target\n",
    "\n",
    "def to_img_label(sample):\n",
    "    img, target = sample\n",
    "    label = 0 if target[\"district\"].lower() in [\"alameda\", \"contra costa\", \"marin\", \"napa\", \"san francisco\", \"san mateo\", \"santa clara\", \"solano\", \"sonoma\", \"sacramento\"] else 1\n",
    "    # TODO: this is where we transform the image\n",
    "    return img, label\n",
    "\n",
    "dataset = dataset.map(to_img_label)\n",
    "dataset = dataset.batched(BATCH_SIZE)\n",
    "\n",
    "# Visualize a few loaded samples\n",
    "#dataloader = torch.utils.data.DataLoader(dataset, num_workers=0, batch_size=None)\n",
    "dataloader = wds.WebLoader(dataset, batch_size=None, num_workers=0)\n",
    "#dataloader = dataloader.unbatched().shuffle(1000).batched(BATCH_SIZE)\n",
    "\n",
    "for inputs, targets in dataloader:\n",
    "    print(inputs.shape, targets.shape)\n",
    "    break"
   ]
  },
  {
   "cell_type": "code",
   "execution_count": 7,
   "metadata": {},
   "outputs": [
    {
     "name": "stdout",
     "output_type": "stream",
     "text": [
      "Epoch 0/3\n",
      "----------\n",
      "Trained on 992 examples\n",
      "Trained on 1984 examples\n",
      "Trained on 2976 examples\n",
      "Trained on 3968 examples\n",
      "Trained on 4960 examples\n",
      "Trained on 5952 examples\n",
      "Trained on 6944 examples\n",
      "Loss: 0.6749 Acc: 0.6052\n",
      "Epoch 1/3\n",
      "----------\n",
      "Trained on 992 examples\n",
      "Trained on 1984 examples\n",
      "Trained on 2976 examples\n",
      "Trained on 3968 examples\n",
      "Trained on 4960 examples\n",
      "Trained on 5952 examples\n",
      "Trained on 6944 examples\n",
      "Loss: 0.6478 Acc: 0.6296\n",
      "Epoch 2/3\n",
      "----------\n",
      "Trained on 992 examples\n",
      "Trained on 1984 examples\n",
      "Trained on 2976 examples\n",
      "Trained on 3968 examples\n",
      "Trained on 4960 examples\n",
      "Trained on 5952 examples\n",
      "Trained on 6944 examples\n",
      "Loss: 0.6320 Acc: 0.6451\n",
      "Epoch 3/3\n",
      "----------\n",
      "Trained on 992 examples\n",
      "Trained on 1984 examples\n",
      "Trained on 2976 examples\n",
      "Trained on 3968 examples\n",
      "Trained on 4960 examples\n",
      "Trained on 5952 examples\n",
      "Trained on 6944 examples\n",
      "Loss: 0.6209 Acc: 0.6558\n",
      "Done\n"
     ]
    }
   ],
   "source": [
    "device = torch.device(\"cuda:0\")\n",
    "\n",
    "def train_model(model, criterion, optimizer, scheduler, dataloader, num_epochs=25):\n",
    "    for epoch in range(num_epochs):\n",
    "        print('Epoch {}/{}'.format(epoch, num_epochs - 1))\n",
    "        print('-' * 10)\n",
    "\n",
    "        model.train()\n",
    "        running_batches = 0\n",
    "        running_loss = 0.0\n",
    "        running_corrects = 0\n",
    "\n",
    "        for inputs, targets in dataloader:\n",
    "            inputs = inputs.to(device)\n",
    "            targets = targets.to(device)\n",
    "\n",
    "            optimizer.zero_grad()\n",
    "\n",
    "            outputs = model(inputs)\n",
    "            _, preds = torch.max(outputs, 1)\n",
    "            loss = criterion(outputs, targets)\n",
    "\n",
    "            loss.backward()\n",
    "            optimizer.step()\n",
    "\n",
    "            running_batches += 1\n",
    "            running_loss += loss.item() * inputs.size(0)\n",
    "            running_corrects += torch.sum(preds == targets.data)\n",
    "\n",
    "            if running_batches % (1000//BATCH_SIZE) == 0:\n",
    "                print(f\"Trained on {running_batches*BATCH_SIZE} examples\")\n",
    "\n",
    "        scheduler.step()\n",
    "\n",
    "        total_batches = running_batches\n",
    "        epoch_loss = running_loss / (total_batches*BATCH_SIZE)\n",
    "        epoch_acc = running_corrects.double() / (total_batches*BATCH_SIZE)\n",
    "\n",
    "        print('Loss: {:.4f} Acc: {:.4f}'.format(\n",
    "            epoch_loss, epoch_acc))\n",
    "\n",
    "    return model\n",
    "\n",
    "\n",
    "# Transfer learning on mobilenetv3\n",
    "model = models.mobilenet_v3_large(weights=\"IMAGENET1K_V2\")\n",
    "# Freeze the model\n",
    "for param in model.parameters():\n",
    "    param.requires_grad = False\n",
    "\n",
    "model.classifier = nn.Linear(model.classifier[0].in_features, 2)\n",
    "torch.nn.init.xavier_uniform_(model.classifier.weight)\n",
    "\n",
    "model = model.to(device)\n",
    "criterion = nn.CrossEntropyLoss()\n",
    "optimizer = optim.Adam(model.classifier.parameters(), lr=0.001)\n",
    "scheduler = optim.lr_scheduler.StepLR(optimizer, step_size=10, gamma=0.1)\n",
    "train_model(model, criterion, optimizer, scheduler, dataloader, num_epochs=4)\n",
    "\n",
    "print(\"Done\")"
   ]
  }
 ],
 "metadata": {
  "kernelspec": {
   "display_name": "Python 3",
   "language": "python",
   "name": "python3"
  },
  "language_info": {
   "codemirror_mode": {
    "name": "ipython",
    "version": 3
   },
   "file_extension": ".py",
   "mimetype": "text/x-python",
   "name": "python",
   "nbconvert_exporter": "python",
   "pygments_lexer": "ipython3",
   "version": "3.11.7"
  }
 },
 "nbformat": 4,
 "nbformat_minor": 2
}
